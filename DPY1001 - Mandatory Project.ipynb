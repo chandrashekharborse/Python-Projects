{
  "cells": [
    {
      "cell_type": "markdown",
      "metadata": {
        "id": "5cPQQTnkSXDW"
      },
      "source": [
        "***Mandatory project***\n",
        "\n",
        "\n",
        "\n",
        "\n",
        "\n",
        "\n",
        "\n",
        "\n",
        "\n",
        "\n"
      ]
    },
    {
      "cell_type": "markdown",
      "metadata": {
        "id": "6P8LF2g3QMGr"
      },
      "source": [
        "1.You are working in a bank and you have been given two lists of the employees who worked in 2021. Employee’s name in list 1 are Ramesh, Suresh, Mahesh, Ali, Jacob and Saritha. List 2 contains the names of Ali, Mukesh, Mahesh, Jacob, Sai, Sarita. Please write a program which helps to identify people who are common in both lists. Please do not use any in-built function."
      ]
    },
    {
      "cell_type": "code",
      "execution_count": null,
      "metadata": {
        "id": "LuEx4wApfTU6"
      },
      "outputs": [],
      "source": [
        "import pandas as pd"
      ]
    },
    {
      "cell_type": "code",
      "execution_count": null,
      "metadata": {
        "colab": {
          "base_uri": "https://localhost:8080/"
        },
        "id": "o8MpHhHVQshr",
        "outputId": "ff7d8175-163a-45f7-b24d-5fb6ab818dc6"
      },
      "outputs": [
        {
          "name": "stdout",
          "output_type": "stream",
          "text": [
            "{'Jacob', 'Saritha', 'Ali', 'Mahesh'}\n"
          ]
        }
      ],
      "source": [
        " ##Solution No. 1\n",
        "def common_member(x,y):\n",
        "  a_set = set(list1)\n",
        "  b_set = set(list2)\n",
        "  if (a_set & b_set):\n",
        "    print(a_set & b_set)\n",
        "  else:\n",
        "      print(\"no common elements\")\n",
        "\n",
        "list1 =[\"Ramesh\",\"Suresh\",\"Mahesh\",\"Ali\",\"Jacob\",\"Saritha\"]\n",
        "list2 =[\"Ali\",\"Mukesh\",\"Mahesh\",\"Jacob\",\"Sai\",\"Saritha\"]\n",
        "common_member(list1,list2)\n"
      ]
    },
    {
      "cell_type": "code",
      "execution_count": null,
      "metadata": {
        "colab": {
          "base_uri": "https://localhost:8080/"
        },
        "id": "JlYTXomVgFJR",
        "outputId": "b6586e11-6be4-4a04-b799-f29ae52a2847"
      },
      "outputs": [
        {
          "name": "stdout",
          "output_type": "stream",
          "text": [
            "common_member are : {'Jacob', 'Saritha', 'Mahesh', 'Ali'}\n"
          ]
        }
      ],
      "source": [
        "## Solution No. 2\n",
        "def common_member(a,b):\n",
        "  a_set = set(a)\n",
        "  b_set = set(b)\n",
        "  if len(a_set.intersection(b_set)) >0:\n",
        "    return(a_set.intersection(b_set))\n",
        "  else:\n",
        "    return(\"no common member\")\n",
        "\n",
        "list1 =[\"Ramesh\",\"Suresh\",\"Mahesh\",\"Ali\",\"Jacob\",\"Saritha\"]\n",
        "list2 =[\"Ali\",\"Mukesh\",\"Mahesh\",\"Jacob\",\"Sai\",\"Saritha\"]\n",
        "print(\"common_member are :\",common_member(list1,list2))"
      ]
    },
    {
      "cell_type": "code",
      "execution_count": null,
      "metadata": {
        "colab": {
          "base_uri": "https://localhost:8080/"
        },
        "id": "pPdlB7En9zb_",
        "outputId": "d1c51e9c-ecd4-4a32-bf94-54ef24148711"
      },
      "outputs": [
        {
          "name": "stdout",
          "output_type": "stream",
          "text": [
            "The common member elements in the two lists are \n",
            "['Mahesh', 'Ali', 'Jacob', 'Saritha']\n"
          ]
        }
      ],
      "source": [
        "## Solution No. 3\n",
        "def common_member(a,b):\n",
        "  result = [i for i in a if i in b]\n",
        "  return result\n",
        "\n",
        "a =[\"Ramesh\",\"Suresh\",\"Mahesh\",\"Ali\",\"Jacob\",\"Saritha\"]\n",
        "b =[\"Ali\",\"Mukesh\",\"Mahesh\",\"Jacob\",\"Sai\",\"Saritha\"]\n",
        "\n",
        "print(\"The common member elements in the two lists are \")\n",
        "print(common_member(a,b))\n"
      ]
    },
    {
      "cell_type": "markdown",
      "metadata": {
        "id": "rvCz-jZGQwFT"
      },
      "source": [
        "2.While entering data, someone entered a few names as a common string “Ramesh Suresh Mohit”. Please write a program which separates all the names and convert them into a list. Once converted in a list, please write a program which adds their age.\n",
        "Ramesh :  25\n",
        "Suresh : 22\n",
        "Mohit : 26\n"
      ]
    },
    {
      "cell_type": "code",
      "execution_count": 47,
      "metadata": {
        "colab": {
          "base_uri": "https://localhost:8080/"
        },
        "id": "CjB6GZXBbgbz",
        "outputId": "a97c49fb-9bfe-4579-9e3f-1564f359c32b"
      },
      "outputs": [
        {
          "output_type": "execute_result",
          "data": {
            "text/plain": [
              "{'Ramesh': 25, 'Suresh': 22, 'Mohit': 26}"
            ]
          },
          "metadata": {},
          "execution_count": 47
        }
      ],
      "source": [
        "### Solution 1\n",
        "txt = \"Ramesh Suresh Mohit\"\n",
        "x = txt.split()\n",
        "list_x = list(x)\n",
        "age = [25,22,26]\n",
        "res = {}\n",
        "for key in list_x:\n",
        "    for value in age:\n",
        "        res[key] = value\n",
        "        age.remove(value)\n",
        "        break\n",
        "res     "
      ]
    },
    {
      "cell_type": "code",
      "execution_count": 48,
      "metadata": {
        "colab": {
          "base_uri": "https://localhost:8080/"
        },
        "id": "v-Mt9t67Q22M",
        "outputId": "4550d455-f397-4457-a52c-2cf724136151"
      },
      "outputs": [
        {
          "output_type": "stream",
          "name": "stdout",
          "text": [
            "{'Ramesh': 25, 'Suresh': 22, 'Mohit': 26}\n"
          ]
        }
      ],
      "source": [
        "#### solution 2\n",
        "txt = \"Ramesh Suresh Mohit\"## given data\n",
        "x = txt.split() ## seperated in elements\n",
        "list_x = list(x) ## create a list\n",
        "age = (25,22,26)\n",
        "dict = {}\n",
        "dict[\"Ramesh\"] = 25\n",
        "dict[\"Suresh\"] = 22\n",
        "dict[\"Mohit\"] = 26\n",
        "print(dict)"
      ]
    },
    {
      "cell_type": "markdown",
      "metadata": {
        "id": "mXQNtHI4Q77t"
      },
      "source": [
        "3.A few students from a university have taken three exams\n",
        "Name = Sam, Jacy, Tom, Steve\n",
        "Python = 25, 26, 29, 28\n",
        "Statistics = 23, 21, 19, 25\n",
        "SQL = 29, 27, 28, 25\n",
        "\n",
        "Please write a program which calculates mean values (no in-built function for mean) of all three tests and print the highest mean value. Addition and other functions are allowed. Please also report who scored the highest mark in python using programming construct. \n"
      ]
    },
    {
      "cell_type": "code",
      "execution_count": 49,
      "metadata": {
        "colab": {
          "base_uri": "https://localhost:8080/"
        },
        "id": "L2PBIPSGWgrn",
        "outputId": "f3fd3197-5b49-4eed-9fcd-719b3aee0b4d"
      },
      "outputs": [
        {
          "output_type": "stream",
          "name": "stdout",
          "text": [
            "average marks of python :  27.0\n",
            "avrage marks of statistics :  22.0\n",
            "average marks of SQL :  26.5\n"
          ]
        }
      ],
      "source": [
        "students = [\"Sam\",\"Jacy\",\"Tom\",\"Steve\"]\n",
        "python = [25,26,29,28]\n",
        "statistics = [23,21,19,25]\n",
        "SQL = [29,27,25,25]\n",
        "### Mean marks of python\n",
        "add =0\n",
        "for i in python :\n",
        "  i=i+add\n",
        "  add=i\n",
        "mean_of_marks=i/len(python)\n",
        "print(\"average marks of python : \",mean_of_marks)\n",
        "###Mean marks of statistics\n",
        "add =0\n",
        "for i in  statistics:\n",
        "  i=i+add\n",
        "  add=i\n",
        "mean_of_marks=i/len(statistics)\n",
        "print(\"avrage marks of statistics : \",mean_of_marks)\n",
        "### Mean marks of statistics\n",
        "add =0\n",
        "for i in SQL :\n",
        "  i=i+add\n",
        "  add=i\n",
        "mean_of_marks=i/len(SQL)\n",
        "print(\"average marks of SQL : \",mean_of_marks)\n",
        "\n",
        "  "
      ]
    },
    {
      "cell_type": "code",
      "source": [
        "\n",
        "students = [\"Sam\",\"Jacy\",\"Tom\",\"Steve\"]\n",
        "python = [25,26,29,28]\n",
        "res = {}\n",
        "for key in students:\n",
        "    for value in python:\n",
        "        res[key] = value\n",
        "        python.remove(value)\n",
        "        break\n",
        " \n",
        "print(f\"{max(res)} got maximum marks in python \")"
      ],
      "metadata": {
        "colab": {
          "base_uri": "https://localhost:8080/"
        },
        "id": "aoyIfdJ7jd1g",
        "outputId": "579f85a9-6e0e-4f87-a5ae-c64998591110"
      },
      "execution_count": 50,
      "outputs": [
        {
          "output_type": "stream",
          "name": "stdout",
          "text": [
            "Tom got maximum marks in python \n"
          ]
        }
      ]
    },
    {
      "cell_type": "markdown",
      "metadata": {
        "id": "EyTWkLRWRZ_g"
      },
      "source": [
        "4.You are working in a medical store. A patient came to your medical store and asked to buy 2 strips of paracetamol, 3 strips of azithromycin and 5 strips of Vitamin C. One strip of paracetamol costs Rs 35, one strip of azithromycin costs Rs 49 and one strip of vitamin c costs Rs. 33. Patient gave you Rs 2000. Please tell us what is the total cost of each medicine, total cost of all medicine and how much money you refunded to the patient?  \n"
      ]
    },
    {
      "cell_type": "code",
      "execution_count": 31,
      "metadata": {
        "id": "_R2fZF-9Rkl3",
        "colab": {
          "base_uri": "https://localhost:8080/"
        },
        "outputId": "a6fbc48c-a61a-47c1-967d-2fd9c12c0cb4"
      },
      "outputs": [
        {
          "output_type": "stream",
          "name": "stdout",
          "text": [
            "total_cost_Paracetamol :  70\n",
            "total_cost_Azithromycin :  147\n",
            "total_cost_Vitamin_C :  165\n",
            "total_cost_of_medicine :  333\n",
            "money refunded to customer : 1667\n"
          ]
        }
      ],
      "source": [
        "                    ## paracetamol\n",
        "x = 35                         ##cost of one strip of paracetamol\n",
        "nx = 2                         ## no of strip bought by customer\n",
        "print(\"total_cost_Paracetamol : \",(x*nx))            ## total cost of paracetamol         \n",
        "                    ## Azithromycin\n",
        "y = 49                         ## cost of one strip of azithromycin\n",
        "ny = 3                         ## no of strips bought by customer \n",
        "print(\"total_cost_Azithromycin : \",(y*ny))           ## total cost of Azithromycin\n",
        "                    ##Vitamin C\n",
        "z = 33                         ## cost of one strip of vitamin c\n",
        "nz = 5                         ## no of strips bought by customer\n",
        "print(\"total_cost_Vitamin_C : \",(z*nz))            ## total cost of vitamin c  \n",
        "                   ## customer paid 2000 rs\n",
        "paid = 2000\n",
        "c= (x*nx) +(y*nx) +(z*nz)\n",
        "print(\"total_cost_of_medicine : \",((x*nx) +(y*nx) +(z*nz)))\n",
        "print(\"money refunded to customer :\",(paid - ((x*nx) +(y*nx) +(z*nz))))"
      ]
    },
    {
      "cell_type": "markdown",
      "metadata": {
        "id": "WXLm5wh-RvOg"
      },
      "source": [
        "5.Accept a sentence as input and find the number of vowels in it. Assume that the sentence has no punctuation marks. For example: I am learning python contains 6 vowels. This function should be applicable for all other different sentences"
      ]
    },
    {
      "cell_type": "code",
      "execution_count": 10,
      "metadata": {
        "colab": {
          "base_uri": "https://localhost:8080/"
        },
        "id": "h-nkZ5epR4P4",
        "outputId": "9750df89-b61a-4776-e6ca-08329e80927d"
      },
      "outputs": [
        {
          "output_type": "stream",
          "name": "stdout",
          "text": [
            "please enter your sentence here :hi\n",
            "your sentence has been accepted !\n"
          ]
        }
      ],
      "source": [
        "### solution 1\n",
        "my_str =str(input(\"please enter your sentence here :\"))\n",
        "vowels = {\"a\",\"e\",\"i\",\"o\",\"u\",\"A\",\"E\",\"I\",\"O\",\"U\"}\n",
        "if any(char in vowels for char in my_str):\n",
        "    print(\"your sentence has been accepted !\")\n",
        "else:\n",
        "    print(\"not accpepted\")"
      ]
    },
    {
      "cell_type": "code",
      "source": [
        "### solution 2\n",
        "my_str =str(input(\"please enter your sentence here : \"))\n",
        "vowels = {'a', 'e', 'i', 'o', 'u', 'A', 'E', 'I', 'O', 'U'}\n",
        "def contains_vowels(string):\n",
        "    for char in string:\n",
        "        if char in vowels:\n",
        "            return \"your sentence has been accepted\"\n",
        "    return \"not accepted\"\n",
        "contains_vowels(my_str)"
      ],
      "metadata": {
        "colab": {
          "base_uri": "https://localhost:8080/",
          "height": 53
        },
        "id": "gPGqwxC2aaNJ",
        "outputId": "c44f63f4-113b-48fa-ca66-bd0ce97b9a78"
      },
      "execution_count": 22,
      "outputs": [
        {
          "name": "stdout",
          "output_type": "stream",
          "text": [
            "please enter your sentence here : mbvnzb\n"
          ]
        },
        {
          "output_type": "execute_result",
          "data": {
            "text/plain": [
              "'not accepted'"
            ],
            "application/vnd.google.colaboratory.intrinsic+json": {
              "type": "string"
            }
          },
          "metadata": {},
          "execution_count": 22
        }
      ]
    },
    {
      "cell_type": "code",
      "source": [
        "### solution 3\n",
        "vowels = {'a', 'e', 'i', 'o', 'u', 'A', 'E', 'I', 'O', 'U'}\n",
        "my_str = str(input(\"please enter your sentence here : \"))\n",
        "vowels_in_string = []\n",
        "for char in my_str:\n",
        "    if char in vowels:\n",
        "        print(f'{char} is a vowel')\n",
        "\n",
        "        if char not in vowels_in_string:\n",
        "            vowels_in_string.append(char)\n",
        "    else:\n",
        "        print(f'{char} is a consonant')\n"
      ],
      "metadata": {
        "colab": {
          "base_uri": "https://localhost:8080/"
        },
        "id": "DWitEJ-qaPvX",
        "outputId": "56361c31-72c6-4768-aaf3-acd5fab21d20"
      },
      "execution_count": 45,
      "outputs": [
        {
          "output_type": "stream",
          "name": "stdout",
          "text": [
            "please enter your sentence here : hi\n",
            "h is a consonant\n",
            "i is a vowel\n"
          ]
        }
      ]
    },
    {
      "cell_type": "markdown",
      "metadata": {
        "id": "QrA_1CQLR5M0"
      },
      "source": [
        "6.You have been appointed by the election commission to create a website. Your first task is to work on a program which tells candidates if they are eligible for voting or not. If they are eligible your output should be ‘Congrats! You are eligible’, otherwise it should tell that you have to return after X number of years. Eligibility criteria for voting is 18 years.\n",
        "\n",
        "For example, If someone is 18 or above your output should be ‘Congrats! You are eligible’. If someone’s age is 15 years it should print output as ‘return after 3 years’.   "
      ]
    },
    {
      "cell_type": "code",
      "execution_count": 54,
      "metadata": {
        "colab": {
          "base_uri": "https://localhost:8080/"
        },
        "id": "KgQe7DvzSQ17",
        "outputId": "28f3a2ee-41fb-4a3c-b0e1-4bfd413d0cef"
      },
      "outputs": [
        {
          "output_type": "stream",
          "name": "stdout",
          "text": [
            "Please enter your age here :17\n",
            "return after 1 years :\n"
          ]
        }
      ],
      "source": [
        "### Solution .1\n",
        "age =int(input(\"Please enter your age here :\"))\n",
        "years_remaining = 18 - age\n",
        "if age >= 18:\n",
        "  print(\"Congrats ! You are eligible\")\n",
        "else:\n",
        "  print(f\"return after {years_remaining} years :\")"
      ]
    },
    {
      "cell_type": "code",
      "source": [
        "#### solution 2\n",
        "age =int(input(\"Please enter your age here :\"))\n",
        "years_remaining = 18 - age\n",
        "print(\"congrats ! you are eligible \") if age >= 18 else print(f\"return after {years_remaining} years\")"
      ],
      "metadata": {
        "colab": {
          "base_uri": "https://localhost:8080/"
        },
        "id": "3dgWGSA9fmHV",
        "outputId": "941a97be-32f5-436d-d5f9-fc2fad7da00a"
      },
      "execution_count": 53,
      "outputs": [
        {
          "output_type": "stream",
          "name": "stdout",
          "text": [
            "Please enter your age here :15\n",
            "return after 3 years\n"
          ]
        }
      ]
    }
  ],
  "metadata": {
    "colab": {
      "provenance": []
    },
    "kernelspec": {
      "display_name": "Python 3",
      "name": "python3"
    },
    "language_info": {
      "name": "python"
    }
  },
  "nbformat": 4,
  "nbformat_minor": 0
}